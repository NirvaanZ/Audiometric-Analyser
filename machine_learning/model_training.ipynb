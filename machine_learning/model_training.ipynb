{
 "cells": [
  {
   "cell_type": "code",
   "execution_count": 1,
   "metadata": {},
   "outputs": [],
   "source": [
    "# import packages\n",
    "\n",
    "import pandas as pd\n",
    "import numpy as np\n",
    "from sklearn.model_selection import train_test_split\n",
    "from sklearn.preprocessing import StandardScaler, OneHotEncoder\n",
    "from sklearn.compose import ColumnTransformer\n",
    "from sklearn.pipeline import Pipeline\n",
    "from xgboost import XGBRegressor\n",
    "from sklearn.metrics import mean_squared_error, r2_score"
   ]
  },
  {
   "cell_type": "code",
   "execution_count": 2,
   "metadata": {},
   "outputs": [],
   "source": [
    "# Load data from CSV file\n",
    "csv_file_path = './database/audiometric_test_database.csv'  # Update this with your actual CSV file path\n",
    "df = pd.read_csv(csv_file_path)"
   ]
  },
  {
   "cell_type": "code",
   "execution_count": 3,
   "metadata": {},
   "outputs": [],
   "source": [
    "# Ensure that the necessary columns exist\n",
    "required_columns = ['Gender_(M=1/F=0)','Age_In_Years','045dB_20','045dB_30','045dB_40','045dB_50','045dB_12k','045dB_12.5K','045dB_13K','045dB_13.5K','045dB_14K','045dB_14.5K','045dB_15K','045dB_15.5K','045dB_16K','045dB_16.5K','045dB_17K','045dB_17.5K','045dB_18K','040dB_20','040dB_30','040dB_40','040dB_50','040dB_12k','040dB_12.5K','040dB_13K','040dB_13.5K','040dB_14K','040dB_14.5K','040dB_15K','040dB_15.5K','040dB_16K','040dB_16.5K','040dB_17K','040dB_17.5K','040dB_18K','035dB_20','035dB_30','035dB_40','035dB_50','035dB_12k','035dB_12.5K','035dB_13K','035dB_13.5K','035dB_14K','035dB_14.5K','035dB_15K','035dB_15.5K','035dB_16K','035dB_16.5K','035dB_17K','035dB_17.5K','035dB_18K','hearing_age']\n",
    "if not all(col in df.columns for col in required_columns):\n",
    "    raise ValueError(f\"CSV file must contain the following columns: {required_columns}\")"
   ]
  },
  {
   "cell_type": "code",
   "execution_count": 4,
   "metadata": {},
   "outputs": [],
   "source": [
    "# Features and target\n",
    "X = df[['Gender_(M=1/F=0)','Age_In_Years','045dB_20','045dB_30','045dB_40','045dB_50','045dB_12k','045dB_12.5K','045dB_13K','045dB_13.5K','045dB_14K','045dB_14.5K','045dB_15K','045dB_15.5K','045dB_16K','045dB_16.5K','045dB_17K','045dB_17.5K','045dB_18K','040dB_20','040dB_30','040dB_40','040dB_50','040dB_12k','040dB_12.5K','040dB_13K','040dB_13.5K','040dB_14K','040dB_14.5K','040dB_15K','040dB_15.5K','040dB_16K','040dB_16.5K','040dB_17K','040dB_17.5K','040dB_18K','035dB_20','035dB_30','035dB_40','035dB_50','035dB_12k','035dB_12.5K','035dB_13K','035dB_13.5K','035dB_14K','035dB_14.5K','035dB_15K','035dB_15.5K','035dB_16K','035dB_16.5K','035dB_17K','035dB_17.5K','035dB_18K']]\n",
    "y = df['hearing_age']"
   ]
  },
  {
   "cell_type": "code",
   "execution_count": 5,
   "metadata": {},
   "outputs": [],
   "source": [
    "# Preprocessing\n",
    "# Specify categorical and numerical features\n",
    "categorical_features = ['Gender_(M=1/F=0)', '045dB_20','045dB_30','045dB_40','045dB_50','045dB_12k','045dB_12.5K','045dB_13K','045dB_13.5K','045dB_14K','045dB_14.5K','045dB_15K','045dB_15.5K','045dB_16K','045dB_16.5K','045dB_17K','045dB_17.5K','045dB_18K','040dB_20','040dB_30','040dB_40','040dB_50','040dB_12k','040dB_12.5K','040dB_13K','040dB_13.5K','040dB_14K','040dB_14.5K','040dB_15K','040dB_15.5K','040dB_16K','040dB_16.5K','040dB_17K','040dB_17.5K','040dB_18K','035dB_20','035dB_30','035dB_40','035dB_50','035dB_12k','035dB_12.5K','035dB_13K','035dB_13.5K','035dB_14K','035dB_14.5K','035dB_15K','035dB_15.5K','035dB_16K','035dB_16.5K','035dB_17K','035dB_17.5K','035dB_18K']\n",
    "numerical_features = ['Age_In_Years']"
   ]
  },
  {
   "cell_type": "code",
   "execution_count": 6,
   "metadata": {},
   "outputs": [],
   "source": [
    "# Create transformers\n",
    "preprocessor = ColumnTransformer(\n",
    "    transformers=[\n",
    "        ('num', StandardScaler(), numerical_features),\n",
    "        ('cat', OneHotEncoder(), categorical_features)\n",
    "    ]\n",
    ")"
   ]
  },
  {
   "cell_type": "code",
   "execution_count": 7,
   "metadata": {},
   "outputs": [],
   "source": [
    "# Create a pipeline with preprocessing and model\n",
    "pipeline = Pipeline(steps=[\n",
    "    ('preprocessor', preprocessor),\n",
    "    ('model', XGBRegressor(objective='reg:squarederror'))\n",
    "])"
   ]
  },
  {
   "cell_type": "code",
   "execution_count": 8,
   "metadata": {},
   "outputs": [],
   "source": [
    "# Split the data into training and testing sets\n",
    "X_train, X_test, y_train, y_test = train_test_split(X, y, test_size=0.2, random_state=42)"
   ]
  },
  {
   "cell_type": "code",
   "execution_count": 9,
   "metadata": {},
   "outputs": [
    {
     "data": {
      "text/html": [
       "<style>#sk-container-id-1 {color: black;}#sk-container-id-1 pre{padding: 0;}#sk-container-id-1 div.sk-toggleable {background-color: white;}#sk-container-id-1 label.sk-toggleable__label {cursor: pointer;display: block;width: 100%;margin-bottom: 0;padding: 0.3em;box-sizing: border-box;text-align: center;}#sk-container-id-1 label.sk-toggleable__label-arrow:before {content: \"▸\";float: left;margin-right: 0.25em;color: #696969;}#sk-container-id-1 label.sk-toggleable__label-arrow:hover:before {color: black;}#sk-container-id-1 div.sk-estimator:hover label.sk-toggleable__label-arrow:before {color: black;}#sk-container-id-1 div.sk-toggleable__content {max-height: 0;max-width: 0;overflow: hidden;text-align: left;background-color: #f0f8ff;}#sk-container-id-1 div.sk-toggleable__content pre {margin: 0.2em;color: black;border-radius: 0.25em;background-color: #f0f8ff;}#sk-container-id-1 input.sk-toggleable__control:checked~div.sk-toggleable__content {max-height: 200px;max-width: 100%;overflow: auto;}#sk-container-id-1 input.sk-toggleable__control:checked~label.sk-toggleable__label-arrow:before {content: \"▾\";}#sk-container-id-1 div.sk-estimator input.sk-toggleable__control:checked~label.sk-toggleable__label {background-color: #d4ebff;}#sk-container-id-1 div.sk-label input.sk-toggleable__control:checked~label.sk-toggleable__label {background-color: #d4ebff;}#sk-container-id-1 input.sk-hidden--visually {border: 0;clip: rect(1px 1px 1px 1px);clip: rect(1px, 1px, 1px, 1px);height: 1px;margin: -1px;overflow: hidden;padding: 0;position: absolute;width: 1px;}#sk-container-id-1 div.sk-estimator {font-family: monospace;background-color: #f0f8ff;border: 1px dotted black;border-radius: 0.25em;box-sizing: border-box;margin-bottom: 0.5em;}#sk-container-id-1 div.sk-estimator:hover {background-color: #d4ebff;}#sk-container-id-1 div.sk-parallel-item::after {content: \"\";width: 100%;border-bottom: 1px solid gray;flex-grow: 1;}#sk-container-id-1 div.sk-label:hover label.sk-toggleable__label {background-color: #d4ebff;}#sk-container-id-1 div.sk-serial::before {content: \"\";position: absolute;border-left: 1px solid gray;box-sizing: border-box;top: 0;bottom: 0;left: 50%;z-index: 0;}#sk-container-id-1 div.sk-serial {display: flex;flex-direction: column;align-items: center;background-color: white;padding-right: 0.2em;padding-left: 0.2em;position: relative;}#sk-container-id-1 div.sk-item {position: relative;z-index: 1;}#sk-container-id-1 div.sk-parallel {display: flex;align-items: stretch;justify-content: center;background-color: white;position: relative;}#sk-container-id-1 div.sk-item::before, #sk-container-id-1 div.sk-parallel-item::before {content: \"\";position: absolute;border-left: 1px solid gray;box-sizing: border-box;top: 0;bottom: 0;left: 50%;z-index: -1;}#sk-container-id-1 div.sk-parallel-item {display: flex;flex-direction: column;z-index: 1;position: relative;background-color: white;}#sk-container-id-1 div.sk-parallel-item:first-child::after {align-self: flex-end;width: 50%;}#sk-container-id-1 div.sk-parallel-item:last-child::after {align-self: flex-start;width: 50%;}#sk-container-id-1 div.sk-parallel-item:only-child::after {width: 0;}#sk-container-id-1 div.sk-dashed-wrapped {border: 1px dashed gray;margin: 0 0.4em 0.5em 0.4em;box-sizing: border-box;padding-bottom: 0.4em;background-color: white;}#sk-container-id-1 div.sk-label label {font-family: monospace;font-weight: bold;display: inline-block;line-height: 1.2em;}#sk-container-id-1 div.sk-label-container {text-align: center;}#sk-container-id-1 div.sk-container {/* jupyter's `normalize.less` sets `[hidden] { display: none; }` but bootstrap.min.css set `[hidden] { display: none !important; }` so we also need the `!important` here to be able to override the default hidden behavior on the sphinx rendered scikit-learn.org. See: https://github.com/scikit-learn/scikit-learn/issues/21755 */display: inline-block !important;position: relative;}#sk-container-id-1 div.sk-text-repr-fallback {display: none;}</style><div id=\"sk-container-id-1\" class=\"sk-top-container\"><div class=\"sk-text-repr-fallback\"><pre>Pipeline(steps=[(&#x27;preprocessor&#x27;,\n",
       "                 ColumnTransformer(transformers=[(&#x27;num&#x27;, StandardScaler(),\n",
       "                                                  [&#x27;Age_In_Years&#x27;]),\n",
       "                                                 (&#x27;cat&#x27;, OneHotEncoder(),\n",
       "                                                  [&#x27;Gender_(M=1/F=0)&#x27;,\n",
       "                                                   &#x27;045dB_20&#x27;, &#x27;045dB_30&#x27;,\n",
       "                                                   &#x27;045dB_40&#x27;, &#x27;045dB_50&#x27;,\n",
       "                                                   &#x27;045dB_12k&#x27;, &#x27;045dB_12.5K&#x27;,\n",
       "                                                   &#x27;045dB_13K&#x27;, &#x27;045dB_13.5K&#x27;,\n",
       "                                                   &#x27;045dB_14K&#x27;, &#x27;045dB_14.5K&#x27;,\n",
       "                                                   &#x27;045dB_15K&#x27;, &#x27;045dB_15.5K&#x27;,\n",
       "                                                   &#x27;045dB_16K&#x27;, &#x27;045dB_16.5K&#x27;,\n",
       "                                                   &#x27;045dB_17K&#x27;, &#x27;045dB_17.5K&#x27;,\n",
       "                                                   &#x27;...\n",
       "                              feature_types=None, gamma=None, grow_policy=None,\n",
       "                              importance_type=None,\n",
       "                              interaction_constraints=None, learning_rate=None,\n",
       "                              max_bin=None, max_cat_threshold=None,\n",
       "                              max_cat_to_onehot=None, max_delta_step=None,\n",
       "                              max_depth=None, max_leaves=None,\n",
       "                              min_child_weight=None, missing=nan,\n",
       "                              monotone_constraints=None, multi_strategy=None,\n",
       "                              n_estimators=None, n_jobs=None,\n",
       "                              num_parallel_tree=None, random_state=None, ...))])</pre><b>In a Jupyter environment, please rerun this cell to show the HTML representation or trust the notebook. <br />On GitHub, the HTML representation is unable to render, please try loading this page with nbviewer.org.</b></div><div class=\"sk-container\" hidden><div class=\"sk-item sk-dashed-wrapped\"><div class=\"sk-label-container\"><div class=\"sk-label sk-toggleable\"><input class=\"sk-toggleable__control sk-hidden--visually\" id=\"sk-estimator-id-1\" type=\"checkbox\" ><label for=\"sk-estimator-id-1\" class=\"sk-toggleable__label sk-toggleable__label-arrow\">Pipeline</label><div class=\"sk-toggleable__content\"><pre>Pipeline(steps=[(&#x27;preprocessor&#x27;,\n",
       "                 ColumnTransformer(transformers=[(&#x27;num&#x27;, StandardScaler(),\n",
       "                                                  [&#x27;Age_In_Years&#x27;]),\n",
       "                                                 (&#x27;cat&#x27;, OneHotEncoder(),\n",
       "                                                  [&#x27;Gender_(M=1/F=0)&#x27;,\n",
       "                                                   &#x27;045dB_20&#x27;, &#x27;045dB_30&#x27;,\n",
       "                                                   &#x27;045dB_40&#x27;, &#x27;045dB_50&#x27;,\n",
       "                                                   &#x27;045dB_12k&#x27;, &#x27;045dB_12.5K&#x27;,\n",
       "                                                   &#x27;045dB_13K&#x27;, &#x27;045dB_13.5K&#x27;,\n",
       "                                                   &#x27;045dB_14K&#x27;, &#x27;045dB_14.5K&#x27;,\n",
       "                                                   &#x27;045dB_15K&#x27;, &#x27;045dB_15.5K&#x27;,\n",
       "                                                   &#x27;045dB_16K&#x27;, &#x27;045dB_16.5K&#x27;,\n",
       "                                                   &#x27;045dB_17K&#x27;, &#x27;045dB_17.5K&#x27;,\n",
       "                                                   &#x27;...\n",
       "                              feature_types=None, gamma=None, grow_policy=None,\n",
       "                              importance_type=None,\n",
       "                              interaction_constraints=None, learning_rate=None,\n",
       "                              max_bin=None, max_cat_threshold=None,\n",
       "                              max_cat_to_onehot=None, max_delta_step=None,\n",
       "                              max_depth=None, max_leaves=None,\n",
       "                              min_child_weight=None, missing=nan,\n",
       "                              monotone_constraints=None, multi_strategy=None,\n",
       "                              n_estimators=None, n_jobs=None,\n",
       "                              num_parallel_tree=None, random_state=None, ...))])</pre></div></div></div><div class=\"sk-serial\"><div class=\"sk-item sk-dashed-wrapped\"><div class=\"sk-label-container\"><div class=\"sk-label sk-toggleable\"><input class=\"sk-toggleable__control sk-hidden--visually\" id=\"sk-estimator-id-2\" type=\"checkbox\" ><label for=\"sk-estimator-id-2\" class=\"sk-toggleable__label sk-toggleable__label-arrow\">preprocessor: ColumnTransformer</label><div class=\"sk-toggleable__content\"><pre>ColumnTransformer(transformers=[(&#x27;num&#x27;, StandardScaler(), [&#x27;Age_In_Years&#x27;]),\n",
       "                                (&#x27;cat&#x27;, OneHotEncoder(),\n",
       "                                 [&#x27;Gender_(M=1/F=0)&#x27;, &#x27;045dB_20&#x27;, &#x27;045dB_30&#x27;,\n",
       "                                  &#x27;045dB_40&#x27;, &#x27;045dB_50&#x27;, &#x27;045dB_12k&#x27;,\n",
       "                                  &#x27;045dB_12.5K&#x27;, &#x27;045dB_13K&#x27;, &#x27;045dB_13.5K&#x27;,\n",
       "                                  &#x27;045dB_14K&#x27;, &#x27;045dB_14.5K&#x27;, &#x27;045dB_15K&#x27;,\n",
       "                                  &#x27;045dB_15.5K&#x27;, &#x27;045dB_16K&#x27;, &#x27;045dB_16.5K&#x27;,\n",
       "                                  &#x27;045dB_17K&#x27;, &#x27;045dB_17.5K&#x27;, &#x27;045dB_18K&#x27;,\n",
       "                                  &#x27;040dB_20&#x27;, &#x27;040dB_30&#x27;, &#x27;040dB_40&#x27;,\n",
       "                                  &#x27;040dB_50&#x27;, &#x27;040dB_12k&#x27;, &#x27;040dB_12.5K&#x27;,\n",
       "                                  &#x27;040dB_13K&#x27;, &#x27;040dB_13.5K&#x27;, &#x27;040dB_14K&#x27;,\n",
       "                                  &#x27;040dB_14.5K&#x27;, &#x27;040dB_15K&#x27;, &#x27;040dB_15.5K&#x27;, ...])])</pre></div></div></div><div class=\"sk-parallel\"><div class=\"sk-parallel-item\"><div class=\"sk-item\"><div class=\"sk-label-container\"><div class=\"sk-label sk-toggleable\"><input class=\"sk-toggleable__control sk-hidden--visually\" id=\"sk-estimator-id-3\" type=\"checkbox\" ><label for=\"sk-estimator-id-3\" class=\"sk-toggleable__label sk-toggleable__label-arrow\">num</label><div class=\"sk-toggleable__content\"><pre>[&#x27;Age_In_Years&#x27;]</pre></div></div></div><div class=\"sk-serial\"><div class=\"sk-item\"><div class=\"sk-estimator sk-toggleable\"><input class=\"sk-toggleable__control sk-hidden--visually\" id=\"sk-estimator-id-4\" type=\"checkbox\" ><label for=\"sk-estimator-id-4\" class=\"sk-toggleable__label sk-toggleable__label-arrow\">StandardScaler</label><div class=\"sk-toggleable__content\"><pre>StandardScaler()</pre></div></div></div></div></div></div><div class=\"sk-parallel-item\"><div class=\"sk-item\"><div class=\"sk-label-container\"><div class=\"sk-label sk-toggleable\"><input class=\"sk-toggleable__control sk-hidden--visually\" id=\"sk-estimator-id-5\" type=\"checkbox\" ><label for=\"sk-estimator-id-5\" class=\"sk-toggleable__label sk-toggleable__label-arrow\">cat</label><div class=\"sk-toggleable__content\"><pre>[&#x27;Gender_(M=1/F=0)&#x27;, &#x27;045dB_20&#x27;, &#x27;045dB_30&#x27;, &#x27;045dB_40&#x27;, &#x27;045dB_50&#x27;, &#x27;045dB_12k&#x27;, &#x27;045dB_12.5K&#x27;, &#x27;045dB_13K&#x27;, &#x27;045dB_13.5K&#x27;, &#x27;045dB_14K&#x27;, &#x27;045dB_14.5K&#x27;, &#x27;045dB_15K&#x27;, &#x27;045dB_15.5K&#x27;, &#x27;045dB_16K&#x27;, &#x27;045dB_16.5K&#x27;, &#x27;045dB_17K&#x27;, &#x27;045dB_17.5K&#x27;, &#x27;045dB_18K&#x27;, &#x27;040dB_20&#x27;, &#x27;040dB_30&#x27;, &#x27;040dB_40&#x27;, &#x27;040dB_50&#x27;, &#x27;040dB_12k&#x27;, &#x27;040dB_12.5K&#x27;, &#x27;040dB_13K&#x27;, &#x27;040dB_13.5K&#x27;, &#x27;040dB_14K&#x27;, &#x27;040dB_14.5K&#x27;, &#x27;040dB_15K&#x27;, &#x27;040dB_15.5K&#x27;, &#x27;040dB_16K&#x27;, &#x27;040dB_16.5K&#x27;, &#x27;040dB_17K&#x27;, &#x27;040dB_17.5K&#x27;, &#x27;040dB_18K&#x27;, &#x27;035dB_20&#x27;, &#x27;035dB_30&#x27;, &#x27;035dB_40&#x27;, &#x27;035dB_50&#x27;, &#x27;035dB_12k&#x27;, &#x27;035dB_12.5K&#x27;, &#x27;035dB_13K&#x27;, &#x27;035dB_13.5K&#x27;, &#x27;035dB_14K&#x27;, &#x27;035dB_14.5K&#x27;, &#x27;035dB_15K&#x27;, &#x27;035dB_15.5K&#x27;, &#x27;035dB_16K&#x27;, &#x27;035dB_16.5K&#x27;, &#x27;035dB_17K&#x27;, &#x27;035dB_17.5K&#x27;, &#x27;035dB_18K&#x27;]</pre></div></div></div><div class=\"sk-serial\"><div class=\"sk-item\"><div class=\"sk-estimator sk-toggleable\"><input class=\"sk-toggleable__control sk-hidden--visually\" id=\"sk-estimator-id-6\" type=\"checkbox\" ><label for=\"sk-estimator-id-6\" class=\"sk-toggleable__label sk-toggleable__label-arrow\">OneHotEncoder</label><div class=\"sk-toggleable__content\"><pre>OneHotEncoder()</pre></div></div></div></div></div></div></div></div><div class=\"sk-item\"><div class=\"sk-estimator sk-toggleable\"><input class=\"sk-toggleable__control sk-hidden--visually\" id=\"sk-estimator-id-7\" type=\"checkbox\" ><label for=\"sk-estimator-id-7\" class=\"sk-toggleable__label sk-toggleable__label-arrow\">XGBRegressor</label><div class=\"sk-toggleable__content\"><pre>XGBRegressor(base_score=None, booster=None, callbacks=None,\n",
       "             colsample_bylevel=None, colsample_bynode=None,\n",
       "             colsample_bytree=None, device=None, early_stopping_rounds=None,\n",
       "             enable_categorical=False, eval_metric=None, feature_types=None,\n",
       "             gamma=None, grow_policy=None, importance_type=None,\n",
       "             interaction_constraints=None, learning_rate=None, max_bin=None,\n",
       "             max_cat_threshold=None, max_cat_to_onehot=None,\n",
       "             max_delta_step=None, max_depth=None, max_leaves=None,\n",
       "             min_child_weight=None, missing=nan, monotone_constraints=None,\n",
       "             multi_strategy=None, n_estimators=None, n_jobs=None,\n",
       "             num_parallel_tree=None, random_state=None, ...)</pre></div></div></div></div></div></div></div>"
      ],
      "text/plain": [
       "Pipeline(steps=[('preprocessor',\n",
       "                 ColumnTransformer(transformers=[('num', StandardScaler(),\n",
       "                                                  ['Age_In_Years']),\n",
       "                                                 ('cat', OneHotEncoder(),\n",
       "                                                  ['Gender_(M=1/F=0)',\n",
       "                                                   '045dB_20', '045dB_30',\n",
       "                                                   '045dB_40', '045dB_50',\n",
       "                                                   '045dB_12k', '045dB_12.5K',\n",
       "                                                   '045dB_13K', '045dB_13.5K',\n",
       "                                                   '045dB_14K', '045dB_14.5K',\n",
       "                                                   '045dB_15K', '045dB_15.5K',\n",
       "                                                   '045dB_16K', '045dB_16.5K',\n",
       "                                                   '045dB_17K', '045dB_17.5K',\n",
       "                                                   '...\n",
       "                              feature_types=None, gamma=None, grow_policy=None,\n",
       "                              importance_type=None,\n",
       "                              interaction_constraints=None, learning_rate=None,\n",
       "                              max_bin=None, max_cat_threshold=None,\n",
       "                              max_cat_to_onehot=None, max_delta_step=None,\n",
       "                              max_depth=None, max_leaves=None,\n",
       "                              min_child_weight=None, missing=nan,\n",
       "                              monotone_constraints=None, multi_strategy=None,\n",
       "                              n_estimators=None, n_jobs=None,\n",
       "                              num_parallel_tree=None, random_state=None, ...))])"
      ]
     },
     "execution_count": 9,
     "metadata": {},
     "output_type": "execute_result"
    }
   ],
   "source": [
    "# Train the model\n",
    "pipeline.fit(X_train, y_train)"
   ]
  },
  {
   "cell_type": "code",
   "execution_count": null,
   "metadata": {},
   "outputs": [],
   "source": []
  },
  {
   "cell_type": "code",
   "execution_count": 10,
   "metadata": {},
   "outputs": [],
   "source": [
    "# Make predictions\n",
    "y_pred = pipeline.predict(X_test)"
   ]
  },
  {
   "cell_type": "code",
   "execution_count": 11,
   "metadata": {},
   "outputs": [],
   "source": [
    "# Evaluate the model\n",
    "mse = mean_squared_error(y_test, y_pred)\n",
    "r2 = r2_score(y_test, y_pred)"
   ]
  },
  {
   "cell_type": "code",
   "execution_count": 12,
   "metadata": {},
   "outputs": [
    {
     "name": "stdout",
     "output_type": "stream",
     "text": [
      "Mean Squared Error: 22.29\n",
      "R² Score: 0.88\n"
     ]
    }
   ],
   "source": [
    "print(f'Mean Squared Error: {mse:.2f}')\n",
    "print(f'R² Score: {r2:.2f}')"
   ]
  },
  {
   "cell_type": "markdown",
   "metadata": {},
   "source": [
    "Mean Squared Error (MSE): 22.29: This value indicates the average squared difference between the predicted and actual hearing ages. While it's a numerical value, whether it's considered \"good\" depends on the specific context of your dataset and the range of the target variable.\n",
    "\n",
    "R² Score: 0.88: An R² score of 0.88 suggests that your model explains 88% of the variance in the hearing age. This is quite good, as it indicates that your model has captured a substantial amount of the underlying patterns in the data."
   ]
  },
  {
   "cell_type": "code",
   "execution_count": 14,
   "metadata": {},
   "outputs": [
    {
     "data": {
      "text/plain": [
       "['trained_pipeline.pkl']"
      ]
     },
     "execution_count": 14,
     "metadata": {},
     "output_type": "execute_result"
    }
   ],
   "source": [
    "import joblib\n",
    "# Save the model to a file\n",
    "# Access the XGBoost model and save it\n",
    "model = pipeline.named_steps['model']\n",
    "model.save_model('trained_model.json')  # Save as XGBoost model\n",
    "\n",
    "# Alternatively, save the entire pipeline using joblib\n",
    "joblib.dump(pipeline, 'trained_pipeline.pkl')"
   ]
  },
  {
   "cell_type": "code",
   "execution_count": 38,
   "metadata": {},
   "outputs": [
    {
     "name": "stdout",
     "output_type": "stream",
     "text": [
      "Predicted class: 16.000558853149414\n"
     ]
    }
   ],
   "source": [
    "import pandas as pd\n",
    "\n",
    "# Adjust this to match the expected number of features (52 in this case)\n",
    "single_entry = pd.DataFrame([[1,16,0,0,1,1,1,1,1,1,1,1,1,1,1,0,0,0,0,0,0,1,1,1,1,1,1,1,1,1,1,1,0,0,0,0,0,0,1,1,1,1,1,1,1,1,1,1,1,1,1,0,0]], \n",
    "                  columns=['Gender_(M=1/F=0)', 'Age_In_Years', '045dB_20', '045dB_30', '045dB_40', '045dB_50', '045dB_12k', '045dB_12.5K', '045dB_13K', '045dB_13.5K', '045dB_14K', \n",
    "                           '045dB_14.5K', '045dB_15K', '045dB_15.5K', '045dB_16K', '045dB_16.5K', '045dB_17K', '045dB_17.5K', '045dB_18K', \n",
    "                           '040dB_20', '040dB_30', '040dB_40', '040dB_50', '040dB_12k', '040dB_12.5K', '040dB_13K', '040dB_13.5K', \n",
    "                           '040dB_14K', '040dB_14.5K', '040dB_15K', '040dB_15.5K', '040dB_16K', '040dB_16.5K', '040dB_17K', \n",
    "                           '040dB_17.5K', '040dB_18K', '035dB_20', '035dB_30', '035dB_40', '035dB_50', '035dB_12k', \n",
    "                           '035dB_12.5K', '035dB_13K', '035dB_13.5K', '035dB_14K', '035dB_14.5K', '035dB_15K', \n",
    "                           '035dB_15.5K', '035dB_16K', '035dB_16.5K', '035dB_17K', '035dB_17.5K', '035dB_18K'])\n",
    "\n",
    "# Make a prediction\n",
    "prediction = pipeline.predict(single_entry)\n",
    "\n",
    "# Output the result\n",
    "print(f'Predicted class: {prediction[0]}')"
   ]
  }
 ],
 "metadata": {
  "kernelspec": {
   "display_name": "Python 3",
   "language": "python",
   "name": "python3"
  },
  "language_info": {
   "codemirror_mode": {
    "name": "ipython",
    "version": 3
   },
   "file_extension": ".py",
   "mimetype": "text/x-python",
   "name": "python",
   "nbconvert_exporter": "python",
   "pygments_lexer": "ipython3",
   "version": "3.8.10"
  }
 },
 "nbformat": 4,
 "nbformat_minor": 2
}
